{
 "cells": [
  {
   "cell_type": "code",
   "execution_count": 1,
   "id": "a69f1a43",
   "metadata": {},
   "outputs": [],
   "source": [
    "#This is Norway cost function based on NordPool dataset for Low-voltage plant with annual consumption over 100,000 kWh:\n",
    "\n",
    "import numpy as np\n",
    "import pandas as pd\n"
   ]
  },
  {
   "cell_type": "code",
   "execution_count": 6,
   "id": "181f5a5d",
   "metadata": {},
   "outputs": [],
   "source": [
    "global P_max #in [kW]\n",
    "A = np.array([35, 41, 50, 57])/100 #in [NOK/kW/month]\n",
    "\n",
    "def PP(P_max, A):\n",
    "    if P_max > 500:\n",
    "        PP = (P_max-500)*A[0] + (500-201)*A[1] + (200-101)*A[3]\n",
    "    elif P_max > 200:\n",
    "        PP = (P_max-201)*A[1] + (200-101)*A[2] + 100*A[3]\n",
    "    elif P_max > 100:\n",
    "        PP = (P_max-101)*A[2] + 100*A[3]\n",
    "    else:\n",
    "        PP = P_max*A[3]\n",
    "    return PP\n"
   ]
  },
  {
   "cell_type": "code",
   "execution_count": 36,
   "id": "a2df1347",
   "metadata": {},
   "outputs": [],
   "source": [
    "E = pd.read_csv('Building.csv')['ELEC']\n",
    "P_max = 203.336 #Peak power in a month in [kW]\n",
    "#global P_max #in [kW]\n",
    "A = np.array([35, 41, 50, 57])/100 #in [NOK/kW/month]\n",
    "\n",
    "FP = 11200.0 #Fixed price in [NOK/year]\n",
    "PP_value = PP(P_max, A)\n",
    "EJ = 0.06 # Enery joint price in [NOK/kWh]\n",
    "NPA = 0.08 #Extra tariff in [NOK/kWh]\n",
    "ELP = pd.read_csv('pricing.csv')['Electricity Pricing [$]'] #Nord pool elspot price in [NOK/kWh]\n",
    "\n",
    "Price = ELP + EJ + NPA\n",
    "\n",
    "Cost = FP/12 + PP_value + sum(Price*E)"
   ]
  },
  {
   "cell_type": "code",
   "execution_count": 37,
   "id": "bf9275fb",
   "metadata": {},
   "outputs": [
    {
     "data": {
      "text/plain": [
       "525009.3911933338"
      ]
     },
     "execution_count": 37,
     "metadata": {},
     "output_type": "execute_result"
    }
   ],
   "source": [
    "Cost"
   ]
  },
  {
   "cell_type": "code",
   "execution_count": null,
   "id": "e35afce6",
   "metadata": {},
   "outputs": [],
   "source": []
  }
 ],
 "metadata": {
  "kernelspec": {
   "display_name": "Python 3 (ipykernel)",
   "language": "python",
   "name": "python3"
  },
  "language_info": {
   "codemirror_mode": {
    "name": "ipython",
    "version": 3
   },
   "file_extension": ".py",
   "mimetype": "text/x-python",
   "name": "python",
   "nbconvert_exporter": "python",
   "pygments_lexer": "ipython3",
   "version": "3.9.7"
  }
 },
 "nbformat": 4,
 "nbformat_minor": 5
}
